{
  "nbformat": 4,
  "nbformat_minor": 0,
  "metadata": {
    "colab": {
      "name": "CycleGAN_Project_new_drive",
      "provenance": [],
      "collapsed_sections": [],
      "machine_shape": "hm"
    },
    "environment": {
      "name": "tf2-gpu.2-3.m74",
      "type": "gcloud",
      "uri": "gcr.io/deeplearning-platform-release/tf2-gpu.2-3:m74"
    },
    "kernelspec": {
      "display_name": "Python 3",
      "language": "python",
      "name": "python3"
    },
    "language_info": {
      "codemirror_mode": {
        "name": "ipython",
        "version": 3
      },
      "file_extension": ".py",
      "mimetype": "text/x-python",
      "name": "python",
      "nbconvert_exporter": "python",
      "pygments_lexer": "ipython3",
      "version": "3.7.10"
    },
    "accelerator": "GPU"
  },
  "cells": [
    {
      "cell_type": "code",
      "metadata": {
        "colab": {
          "base_uri": "https://localhost:8080/"
        },
        "id": "C3cPoCMB46uJ",
        "outputId": "1a5accc2-bed5-4e7c-a251-8a2de4234842"
      },
      "source": [
        "from google.colab import drive\n",
        "drive.mount('/content/drive')"
      ],
      "execution_count": 1,
      "outputs": [
        {
          "output_type": "stream",
          "name": "stdout",
          "text": [
            "Mounted at /content/drive\n"
          ]
        }
      ]
    },
    {
      "cell_type": "code",
      "metadata": {
        "id": "-zpsqHir5KIc"
      },
      "source": [
        "import os"
      ],
      "execution_count": 2,
      "outputs": []
    },
    {
      "cell_type": "code",
      "metadata": {
        "id": "o51kt0yv5FQW"
      },
      "source": [
        "os.chdir('drive/MyDrive/Studies/ArtGan')"
      ],
      "execution_count": 3,
      "outputs": []
    },
    {
      "cell_type": "code",
      "metadata": {
        "id": "ZBrP2XxB5Q4K"
      },
      "source": [
        "# !unzip dataset_artgan_realism.zip"
      ],
      "execution_count": null,
      "outputs": []
    },
    {
      "cell_type": "code",
      "metadata": {
        "id": "tkX_mRWCW-uQ"
      },
      "source": [
        "import torch.nn as nn\n",
        "import torch.nn.functional as F\n",
        "import torch"
      ],
      "execution_count": 5,
      "outputs": []
    },
    {
      "cell_type": "code",
      "metadata": {
        "id": "qACtaLAyXdw_"
      },
      "source": [
        "def weights_init_normal(m):\n",
        "    classname = m.__class__.__name__\n",
        "    if classname.find(\"Conv\") != -1:\n",
        "        torch.nn.init.normal_(m.weight.data, 0.0, 0.02)\n",
        "        if hasattr(m, \"bias\") and m.bias is not None:\n",
        "            torch.nn.init.constant_(m.bias.data, 0.0)\n",
        "    elif classname.find(\"BatchNorm2d\") != -1:\n",
        "        torch.nn.init.normal_(m.weight.data, 1.0, 0.02)\n",
        "        torch.nn.init.constant_(m.bias.data, 0.0)"
      ],
      "execution_count": 6,
      "outputs": []
    },
    {
      "cell_type": "code",
      "metadata": {
        "id": "VH8EviUjX10K"
      },
      "source": [
        "class ResidualBlock(nn.Module):\n",
        "    def __init__(self, in_features):\n",
        "        super(ResidualBlock, self).__init__()\n",
        "\n",
        "        self.block = nn.Sequential(\n",
        "            nn.ReflectionPad2d(1),\n",
        "            nn.Conv2d(in_features, in_features, 3),\n",
        "            nn.InstanceNorm2d(in_features),\n",
        "            nn.ReLU(inplace=True),\n",
        "            nn.ReflectionPad2d(1),\n",
        "            nn.Conv2d(in_features, in_features, 3),\n",
        "            nn.InstanceNorm2d(in_features),\n",
        "        )\n",
        "\n",
        "    def forward(self, x):\n",
        "        return x + self.block(x)"
      ],
      "execution_count": 7,
      "outputs": []
    },
    {
      "cell_type": "code",
      "metadata": {
        "id": "tlC2oTbVX3zz"
      },
      "source": [
        "class GeneratorResNet(nn.Module):\n",
        "    def __init__(self, input_shape, num_residual_blocks):\n",
        "        super(GeneratorResNet, self).__init__()\n",
        "\n",
        "        channels = input_shape[0]\n",
        "\n",
        "        # Initial convolution block\n",
        "        out_features = 64\n",
        "        model = [\n",
        "            nn.ReflectionPad2d(channels),\n",
        "            nn.Conv2d(channels, out_features, 7),\n",
        "            nn.InstanceNorm2d(out_features),\n",
        "            nn.ReLU(inplace=True),\n",
        "        ]\n",
        "        in_features = out_features\n",
        "\n",
        "        # Downsampling\n",
        "        for _ in range(2):\n",
        "            out_features *= 2\n",
        "            model += [\n",
        "                nn.Conv2d(in_features, out_features, 3, stride=2, padding=1),\n",
        "                nn.InstanceNorm2d(out_features),\n",
        "                nn.ReLU(inplace=True),\n",
        "            ]\n",
        "            in_features = out_features\n",
        "\n",
        "        # Residual blocks\n",
        "        for _ in range(num_residual_blocks):\n",
        "            model += [ResidualBlock(out_features)]\n",
        "\n",
        "        # Upsampling\n",
        "        for _ in range(2):\n",
        "            out_features //= 2\n",
        "            model += [\n",
        "                nn.Upsample(scale_factor=2),\n",
        "                nn.Conv2d(in_features, out_features, 3, stride=1, padding=1),\n",
        "                nn.InstanceNorm2d(out_features),\n",
        "                nn.ReLU(inplace=True),\n",
        "            ]\n",
        "            in_features = out_features\n",
        "\n",
        "        # Output layer\n",
        "        model += [nn.ReflectionPad2d(channels), nn.Conv2d(out_features, channels, 7), nn.Tanh()]\n",
        "\n",
        "        self.model = nn.Sequential(*model)\n",
        "\n",
        "    def forward(self, x):\n",
        "        return self.model(x)"
      ],
      "execution_count": 8,
      "outputs": []
    },
    {
      "cell_type": "code",
      "metadata": {
        "id": "JGEIMki8X6-t"
      },
      "source": [
        "class Discriminator(nn.Module):\n",
        "    def __init__(self, input_shape):\n",
        "        super(Discriminator, self).__init__()\n",
        "\n",
        "        channels, height, width = input_shape\n",
        "\n",
        "        # Calculate output shape of image discriminator\n",
        "        self.output_shape = (1, height // 2 ** 4, width // 2 ** 4)\n",
        "\n",
        "        def discriminator_block(in_filters, out_filters, normalize=True):\n",
        "            \"\"\"Returns downsampling layers of each discriminator block\"\"\"\n",
        "            layers = [nn.Conv2d(in_filters, out_filters, 4, stride=2, padding=1)]\n",
        "            if normalize:\n",
        "                layers.append(nn.InstanceNorm2d(out_filters))\n",
        "            layers.append(nn.LeakyReLU(0.2, inplace=True))\n",
        "            return layers\n",
        "\n",
        "        self.model = nn.Sequential(\n",
        "            *discriminator_block(channels, 64, normalize=False),\n",
        "            *discriminator_block(64, 128),\n",
        "            *discriminator_block(128, 256),\n",
        "            *discriminator_block(256, 512),\n",
        "            nn.ZeroPad2d((1, 0, 1, 0)),\n",
        "            nn.Conv2d(512, 1, 4, padding=1)\n",
        "        )\n",
        "\n",
        "    def forward(self, img):\n",
        "        return self.model(img)"
      ],
      "execution_count": 9,
      "outputs": []
    },
    {
      "cell_type": "code",
      "metadata": {
        "id": "1LHBIo7hX9jI"
      },
      "source": [
        "class ReplayBuffer:\n",
        "    def __init__(self, max_size=50):\n",
        "        assert max_size > 0, \"Empty buffer or trying to create a black hole. Be careful.\"\n",
        "        self.max_size = max_size\n",
        "        self.data = []\n",
        "\n",
        "    def push_and_pop(self, data):\n",
        "        to_return = []\n",
        "        for element in data.data:\n",
        "            element = torch.unsqueeze(element, 0)\n",
        "            if len(self.data) < self.max_size:\n",
        "                self.data.append(element)\n",
        "                to_return.append(element)\n",
        "            else:\n",
        "                if random.uniform(0, 1) > 0.5:\n",
        "                    i = random.randint(0, self.max_size - 1)\n",
        "                    to_return.append(self.data[i].clone())\n",
        "                    self.data[i] = element\n",
        "                else:\n",
        "                    to_return.append(element)\n",
        "        return Variable(torch.cat(to_return))"
      ],
      "execution_count": 10,
      "outputs": []
    },
    {
      "cell_type": "code",
      "metadata": {
        "id": "66LQy3rRYEnz"
      },
      "source": [
        "class LambdaLR:\n",
        "    def __init__(self, n_epochs, offset, decay_start_epoch):\n",
        "        assert (n_epochs - decay_start_epoch) > 0, \"Decay must start before the training session ends!\"\n",
        "        self.n_epochs = n_epochs\n",
        "        self.offset = offset\n",
        "        self.decay_start_epoch = decay_start_epoch\n",
        "\n",
        "    def step(self, epoch):\n",
        "        return 1.0 - max(0, epoch + self.offset - self.decay_start_epoch) / (self.n_epochs - self.decay_start_epoch)"
      ],
      "execution_count": 11,
      "outputs": []
    },
    {
      "cell_type": "code",
      "metadata": {
        "id": "HLSH1gPM9rn2"
      },
      "source": [
        "import glob\n",
        "import random\n",
        "from torch.utils.data import Dataset\n",
        "from PIL import Image\n",
        "import torchvision.transforms as transforms"
      ],
      "execution_count": 12,
      "outputs": []
    },
    {
      "cell_type": "code",
      "metadata": {
        "id": "ApfGYfJ8YHau"
      },
      "source": [
        "def to_rgb(image):\n",
        "    rgb_image = Image.new(\"RGB\", image.size)\n",
        "    rgb_image.paste(image)\n",
        "    return rgb_image"
      ],
      "execution_count": 13,
      "outputs": []
    },
    {
      "cell_type": "code",
      "metadata": {
        "id": "qfBdcvMUYQ-q"
      },
      "source": [
        "class ImageDataset(Dataset):\n",
        "    def __init__(self, root, transforms_=None, unaligned=False, mode=\"train\"):\n",
        "        self.transform = transforms.Compose(transforms_)\n",
        "        self.unaligned = unaligned\n",
        "\n",
        "        self.files_A = sorted(glob.glob(os.path.join(root, \"%s_A\" % mode) + \"/*.*\"))\n",
        "        self.files_B = sorted(glob.glob(os.path.join(root, \"%s_B\" % mode) + \"/*.*\"))\n",
        "\n",
        "    def __getitem__(self, index):\n",
        "        image_A = Image.open(self.files_A[index % len(self.files_A)])\n",
        "        image_B = Image.open(self.files_B[index % len(self.files_B)])\n",
        "\n",
        "        # Convert grayscale images to rgb\n",
        "        if image_A.mode != \"RGB\":\n",
        "            image_A = to_rgb(image_A)\n",
        "        if image_B.mode != \"RGB\":\n",
        "            image_B = to_rgb(image_B)\n",
        "\n",
        "        item_A = self.transform(image_A)\n",
        "        item_B = self.transform(image_B)\n",
        "        return {\"A\": item_A, \"B\": item_B}\n",
        "\n",
        "    def __len__(self):\n",
        "        return max(len(self.files_A), len(self.files_B))"
      ],
      "execution_count": 14,
      "outputs": []
    },
    {
      "cell_type": "code",
      "metadata": {
        "id": "eI1dUB6E9y96"
      },
      "source": [
        "import argparse\n",
        "import os\n",
        "import numpy as np\n",
        "import math\n",
        "import itertools\n",
        "import datetime\n",
        "import time\n",
        "\n",
        "import torchvision.transforms as transforms\n",
        "from torchvision.utils import save_image, make_grid\n",
        "\n",
        "from torch.utils.data import DataLoader\n",
        "from torchvision import datasets\n",
        "from torch.autograd import Variable\n",
        "\n",
        "import torch.nn as nn\n",
        "import torch.nn.functional as F\n",
        "import torch"
      ],
      "execution_count": 15,
      "outputs": []
    },
    {
      "cell_type": "code",
      "metadata": {
        "id": "sdrbImqV99Sl"
      },
      "source": [
        "os.makedirs(\"images/realism_art\", exist_ok=True)\n",
        "os.makedirs(\"saved_models/realism_art\", exist_ok=True)"
      ],
      "execution_count": null,
      "outputs": []
    },
    {
      "cell_type": "code",
      "metadata": {
        "id": "WDH35Q-Q-JfG"
      },
      "source": [
        "criterion_GAN = torch.nn.MSELoss()\n",
        "criterion_cycle = torch.nn.L1Loss()\n",
        "criterion_identity = torch.nn.L1Loss()"
      ],
      "execution_count": 16,
      "outputs": []
    },
    {
      "cell_type": "code",
      "metadata": {
        "id": "WfRlgiXV-U0k"
      },
      "source": [
        "cuda = torch.cuda.is_available()\n",
        "\n",
        "input_shape = (3, 256, 256)\n",
        "G_AB = GeneratorResNet(input_shape, 9)\n",
        "G_BA = GeneratorResNet(input_shape, 9)\n",
        "D_A = Discriminator(input_shape)\n",
        "D_B = Discriminator(input_shape)"
      ],
      "execution_count": 17,
      "outputs": []
    },
    {
      "cell_type": "code",
      "metadata": {
        "id": "VNuPesVM-kfd"
      },
      "source": [
        "if cuda:\n",
        "    G_AB = G_AB.cuda()\n",
        "    G_BA = G_BA.cuda()\n",
        "    D_A = D_A.cuda()\n",
        "    D_B = D_B.cuda()\n",
        "    criterion_GAN.cuda()\n",
        "    criterion_cycle.cuda()\n",
        "    criterion_identity.cuda()"
      ],
      "execution_count": null,
      "outputs": []
    },
    {
      "cell_type": "code",
      "metadata": {
        "id": "Tylz5z2a-4mI"
      },
      "source": [
        "start_epoch = 80\n",
        "n_epochs = 200"
      ],
      "execution_count": null,
      "outputs": []
    },
    {
      "cell_type": "code",
      "metadata": {
        "id": "v3jiDMdk-mSD"
      },
      "source": [
        "if start_epoch != 0 and not cuda:\n",
        "    # Load pretrained models\n",
        "    G_AB.load_state_dict(torch.load(\"saved_models/%s/G_AB_%d.pth\" % ('realism_art', start_epoch), map_location=torch.device('cpu')))\n",
        "    G_BA.load_state_dict(torch.load(\"saved_models/%s/G_BA_%d.pth\" % ('realism_art', start_epoch), map_location=torch.device('cpu')))\n",
        "    D_A.load_state_dict(torch.load(\"saved_models/%s/D_A_%d.pth\" % ('realism_art', start_epoch), map_location=torch.device('cpu')))\n",
        "    D_B.load_state_dict(torch.load(\"saved_models/%s/D_B_%d.pth\" % ('realism_art', start_epoch), map_location=torch.device('cpu')))\n",
        "elif start_epoch != 0 and cuda:\n",
        "    # Load pretrained models\n",
        "    G_AB.load_state_dict(torch.load(\"saved_models/%s/G_AB_%d.pth\" % ('realism_art', start_epoch)))\n",
        "    G_BA.load_state_dict(torch.load(\"saved_models/%s/G_BA_%d.pth\" % ('realism_art', start_epoch)))\n",
        "    D_A.load_state_dict(torch.load(\"saved_models/%s/D_A_%d.pth\" % ('realism_art', start_epoch)))\n",
        "    D_B.load_state_dict(torch.load(\"saved_models/%s/D_B_%d.pth\" % ('realism_art', start_epoch)))\n",
        "else:\n",
        "    # Initialize weights\n",
        "    G_AB.apply(weights_init_normal)\n",
        "    G_BA.apply(weights_init_normal)\n",
        "    D_A.apply(weights_init_normal)\n",
        "    D_B.apply(weights_init_normal)"
      ],
      "execution_count": null,
      "outputs": []
    },
    {
      "cell_type": "code",
      "metadata": {
        "id": "VCQ2M6gX-2do"
      },
      "source": [
        "optimizer_G = torch.optim.Adam(\n",
        "    itertools.chain(G_AB.parameters(), G_BA.parameters()), lr=0.0002, betas=(0.5, 0.999)\n",
        ")\n",
        "optimizer_D_A = torch.optim.Adam(D_A.parameters(), lr=0.0002, betas=(0.5, 0.999))\n",
        "optimizer_D_B = torch.optim.Adam(D_B.parameters(), lr=0.0002, betas=(0.5, 0.999))\n",
        "\n",
        "# Learning rate update schedulers\n",
        "lr_scheduler_G = torch.optim.lr_scheduler.LambdaLR(\n",
        "    optimizer_G, lr_lambda=LambdaLR(n_epochs, start_epoch, 100).step\n",
        ")\n",
        "lr_scheduler_D_A = torch.optim.lr_scheduler.LambdaLR(\n",
        "    optimizer_D_A, lr_lambda=LambdaLR(n_epochs, start_epoch, 100).step\n",
        ")\n",
        "lr_scheduler_D_B = torch.optim.lr_scheduler.LambdaLR(\n",
        "    optimizer_D_B, lr_lambda=LambdaLR(n_epochs, start_epoch, 100).step\n",
        ")"
      ],
      "execution_count": null,
      "outputs": []
    },
    {
      "cell_type": "code",
      "metadata": {
        "colab": {
          "base_uri": "https://localhost:8080/"
        },
        "id": "y5sqyOU-_nnp",
        "outputId": "f499e6fe-ecd0-4651-95a0-2068587ea2d2"
      },
      "source": [
        "Tensor = torch.cuda.FloatTensor if cuda else torch.Tensor\n",
        "\n",
        "# Buffers of previously generated samples\n",
        "fake_A_buffer = ReplayBuffer()\n",
        "fake_B_buffer = ReplayBuffer()\n",
        "\n",
        "# Image transformations\n",
        "transforms_ = [\n",
        "    transforms.Resize(int(256 * 1.12), Image.BICUBIC),\n",
        "    transforms.RandomCrop((256, 256)),\n",
        "    transforms.RandomHorizontalFlip(),\n",
        "    transforms.ToTensor(),\n",
        "    transforms.Normalize((0.5, 0.5, 0.5), (0.5, 0.5, 0.5)),\n",
        "]"
      ],
      "execution_count": 32,
      "outputs": [
        {
          "output_type": "stream",
          "name": "stderr",
          "text": [
            "/usr/local/lib/python3.7/dist-packages/torchvision/transforms/transforms.py:288: UserWarning: Argument interpolation should be of type InterpolationMode instead of int. Please, use InterpolationMode enum.\n",
            "  \"Argument interpolation should be of type InterpolationMode instead of int. \"\n"
          ]
        }
      ]
    },
    {
      "cell_type": "code",
      "metadata": {
        "colab": {
          "base_uri": "https://localhost:8080/"
        },
        "id": "ZmrGgOG5_yGF",
        "outputId": "d2f500b5-01c9-4f99-fd8d-2261eb45ebb0"
      },
      "source": [
        "# './ArtGAN_project'\n",
        "# Training data loader\n",
        "# Test data loader\n",
        "val_dataloader = DataLoader(\n",
        "    ImageDataset('', transforms_=transforms_, unaligned=True, mode=\"test\"),\n",
        "    batch_size=5,\n",
        "    shuffle=True,\n",
        "    num_workers=1,\n",
        ")\n",
        "dataloader = DataLoader(\n",
        "    ImageDataset('', transforms_=transforms_, unaligned=True),\n",
        "    batch_size=1,\n",
        "    shuffle=True,\n",
        "    num_workers=8,\n",
        ")"
      ],
      "execution_count": null,
      "outputs": [
        {
          "output_type": "stream",
          "name": "stderr",
          "text": [
            "/usr/local/lib/python3.7/dist-packages/torch/utils/data/dataloader.py:481: UserWarning: This DataLoader will create 8 worker processes in total. Our suggested max number of worker in current system is 2, which is smaller than what this DataLoader is going to create. Please be aware that excessive worker creation might get DataLoader running slow or even freeze, lower the worker number to avoid potential slowness/freeze if necessary.\n",
            "  cpuset_checked))\n"
          ]
        }
      ]
    },
    {
      "cell_type": "code",
      "metadata": {
        "id": "APjz8qwCC0m0"
      },
      "source": [
        "def sample_images(batches_done):\n",
        "    \"\"\"Saves a generated sample from the test set\"\"\"\n",
        "    imgs = next(iter(val_dataloader))\n",
        "    G_AB.eval()\n",
        "    G_BA.eval()\n",
        "    real_A = Variable(imgs[\"A\"].type(Tensor))\n",
        "    fake_B = G_AB(real_A)\n",
        "    real_B = Variable(imgs[\"B\"].type(Tensor))\n",
        "    fake_A = G_BA(real_B)\n",
        "    # Arange images along x-axis\n",
        "    real_A = make_grid(real_A, nrow=5, normalize=True)\n",
        "    real_B = make_grid(real_B, nrow=5, normalize=True)\n",
        "    fake_A = make_grid(fake_A, nrow=5, normalize=True)\n",
        "    fake_B = make_grid(fake_B, nrow=5, normalize=True)\n",
        "    # Arange images along y-axis\n",
        "    image_grid = torch.cat((real_A, fake_B, real_B, fake_A), 1)\n",
        "    save_image(image_grid, \"images/%s/%s.png\" % ('realism_art', batches_done), normalize=False)"
      ],
      "execution_count": null,
      "outputs": []
    },
    {
      "cell_type": "code",
      "metadata": {
        "id": "9D8B-EvvEXW6"
      },
      "source": [
        "import sys"
      ],
      "execution_count": null,
      "outputs": []
    },
    {
      "cell_type": "code",
      "metadata": {
        "id": "Rjpyy5-LDDeC"
      },
      "source": [
        "prev_time = time.time()\n",
        "for epoch in range(start_epoch, n_epochs):\n",
        "    for i, batch in enumerate(dataloader):\n",
        "\n",
        "        # Set model input\n",
        "        real_A = Variable(batch[\"A\"].type(Tensor))\n",
        "        real_B = Variable(batch[\"B\"].type(Tensor))\n",
        "\n",
        "        # Adversarial ground truths\n",
        "        valid = Variable(Tensor(np.ones((real_A.size(0), *D_A.output_shape))), requires_grad=False)\n",
        "        fake = Variable(Tensor(np.zeros((real_A.size(0), *D_A.output_shape))), requires_grad=False)\n",
        "\n",
        "        # ------------------\n",
        "        #  Train Generators\n",
        "        # ------------------\n",
        "\n",
        "        G_AB.train()\n",
        "        G_BA.train()\n",
        "\n",
        "        optimizer_G.zero_grad()\n",
        "\n",
        "        # Identity loss\n",
        "        loss_id_A = criterion_identity(G_BA(real_A), real_A)\n",
        "        loss_id_B = criterion_identity(G_AB(real_B), real_B)\n",
        "\n",
        "        loss_identity = (loss_id_A + loss_id_B) / 2\n",
        "\n",
        "        # GAN loss\n",
        "        fake_B = G_AB(real_A)\n",
        "        loss_GAN_AB = criterion_GAN(D_B(fake_B), valid)\n",
        "        fake_A = G_BA(real_B)\n",
        "        loss_GAN_BA = criterion_GAN(D_A(fake_A), valid)\n",
        "\n",
        "        loss_GAN = (loss_GAN_AB + loss_GAN_BA) / 2\n",
        "\n",
        "        # Cycle loss\n",
        "        recov_A = G_BA(fake_B)\n",
        "        loss_cycle_A = criterion_cycle(recov_A, real_A)\n",
        "        recov_B = G_AB(fake_A)\n",
        "        loss_cycle_B = criterion_cycle(recov_B, real_B)\n",
        "\n",
        "        loss_cycle = (loss_cycle_A + loss_cycle_B) / 2\n",
        "\n",
        "        # Total loss\n",
        "        loss_G = loss_GAN + 10.0 * loss_cycle + 5.0 * loss_identity\n",
        "\n",
        "        loss_G.backward()\n",
        "        optimizer_G.step()\n",
        "\n",
        "        # -----------------------\n",
        "        #  Train Discriminator A\n",
        "        # -----------------------\n",
        "\n",
        "        optimizer_D_A.zero_grad()\n",
        "\n",
        "        # Real loss\n",
        "        loss_real = criterion_GAN(D_A(real_A), valid)\n",
        "        # Fake loss (on batch of previously generated samples)\n",
        "        fake_A_ = fake_A_buffer.push_and_pop(fake_A)\n",
        "        loss_fake = criterion_GAN(D_A(fake_A_.detach()), fake)\n",
        "        # Total loss\n",
        "        loss_D_A = (loss_real + loss_fake) / 2\n",
        "\n",
        "        loss_D_A.backward()\n",
        "        optimizer_D_A.step()\n",
        "\n",
        "        # -----------------------\n",
        "        #  Train Discriminator B\n",
        "        # -----------------------\n",
        "\n",
        "        optimizer_D_B.zero_grad()\n",
        "\n",
        "        # Real loss\n",
        "        loss_real = criterion_GAN(D_B(real_B), valid)\n",
        "        # Fake loss (on batch of previously generated samples)\n",
        "        fake_B_ = fake_B_buffer.push_and_pop(fake_B)\n",
        "        loss_fake = criterion_GAN(D_B(fake_B_.detach()), fake)\n",
        "        # Total loss\n",
        "        loss_D_B = (loss_real + loss_fake) / 2\n",
        "\n",
        "        loss_D_B.backward()\n",
        "        optimizer_D_B.step()\n",
        "\n",
        "        loss_D = (loss_D_A + loss_D_B) / 2\n",
        "\n",
        "        # --------------\n",
        "        #  Log Progress\n",
        "        # --------------\n",
        "\n",
        "        # Determine approximate time left\n",
        "        batches_done = epoch * len(dataloader) + i\n",
        "        batches_left = 200 * len(dataloader) - batches_done\n",
        "        time_left = datetime.timedelta(seconds=batches_left * (time.time() - prev_time))\n",
        "        prev_time = time.time()\n",
        "\n",
        "        # Print log\n",
        "        sys.stdout.write(\n",
        "            \"\\r[Epoch %d/%d] [Batch %d/%d] [D loss: %f] [G loss: %f, adv: %f, cycle: %f, identity: %f] ETA: %s\"\n",
        "            % (\n",
        "                epoch,\n",
        "                200,\n",
        "                i,\n",
        "                len(dataloader),\n",
        "                loss_D.item(),\n",
        "                loss_G.item(),\n",
        "                loss_GAN.item(),\n",
        "                loss_cycle.item(),\n",
        "                loss_identity.item(),\n",
        "                time_left,\n",
        "            )\n",
        "        )\n",
        "\n",
        "        # If at sample interval save image\n",
        "        if batches_done % 1000 == 0:\n",
        "            sample_images(batches_done)\n",
        "\n",
        "    # Update learning rates\n",
        "    lr_scheduler_G.step()\n",
        "    lr_scheduler_D_A.step()\n",
        "    lr_scheduler_D_B.step()\n",
        "\n",
        "    if epoch % 5 == 0:\n",
        "        # Save model checkpoints\n",
        "        torch.save(G_AB.state_dict(), \"saved_models/%s/G_AB_%d.pth\" % ('realism_art', epoch))\n",
        "        torch.save(G_BA.state_dict(), \"saved_models/%s/G_BA_%d.pth\" % ('realism_art', epoch))\n",
        "        torch.save(D_A.state_dict(), \"saved_models/%s/D_A_%d.pth\" % ('realism_art', epoch))\n",
        "        torch.save(D_B.state_dict(), \"saved_models/%s/D_B_%d.pth\" % ('realism_art', epoch))"
      ],
      "execution_count": null,
      "outputs": []
    },
    {
      "cell_type": "code",
      "metadata": {
        "id": "hT_PF1ORYZsp"
      },
      "source": [
        "# Initially wanted to train for 200 epochs, but only got 140 epochs.\n",
        "# Each epochs took approximately 2 hours 40 mins to train.\n",
        "# Testing an evaluating."
      ],
      "execution_count": null,
      "outputs": []
    },
    {
      "cell_type": "code",
      "metadata": {
        "id": "X-ltD1kMYp5C",
        "colab": {
          "base_uri": "https://localhost:8080/"
        },
        "outputId": "2b232ee9-f656-4216-f027-9a12a0811c74"
      },
      "source": [
        "if cuda:\n",
        "    G_AB = G_AB.cuda()\n",
        "    G_BA = G_BA.cuda()\n",
        "    D_A = D_A.cuda()\n",
        "    D_B = D_B.cuda()\n",
        "    criterion_GAN.cuda()\n",
        "    criterion_cycle.cuda()\n",
        "    criterion_identity.cuda()\n",
        "\n",
        "# Load pretrained models\n",
        "# 140 epochs done\n",
        "epoch = 140\n",
        "G_AB.load_state_dict(torch.load(\"saved_models/%s/G_AB_%d.pth\" % ('realism_art', epoch)))\n",
        "G_BA.load_state_dict(torch.load(\"saved_models/%s/G_BA_%d.pth\" % ('realism_art', epoch)))\n",
        "D_A.load_state_dict(torch.load(\"saved_models/%s/D_A_%d.pth\" % ('realism_art', epoch)))\n",
        "D_B.load_state_dict(torch.load(\"saved_models/%s/D_B_%d.pth\" % ('realism_art', epoch)))"
      ],
      "execution_count": 43,
      "outputs": [
        {
          "output_type": "execute_result",
          "data": {
            "text/plain": [
              "<All keys matched successfully>"
            ]
          },
          "metadata": {},
          "execution_count": 43
        }
      ]
    },
    {
      "cell_type": "code",
      "metadata": {
        "colab": {
          "base_uri": "https://localhost:8080/"
        },
        "id": "JxtJydO9iLI9",
        "outputId": "76d19ec7-9856-4c2b-cad7-a43375dd38ab"
      },
      "source": [
        "def get_parameter_count(model):\n",
        " return (sum(p.numel() for p in model.parameters()), \n",
        "         sum(p.numel() for p in model.parameters() if p.requires_grad))\n",
        "\n",
        "print(\"G_AB paramters:\", get_parameter_count(G_AB))\n",
        "print(\"G_BA paramters:\", get_parameter_count(G_BA))\n",
        "print(\"D_A paramters:\", get_parameter_count(D_A))\n",
        "print(\"D_B paramters:\", get_parameter_count(D_B))"
      ],
      "execution_count": 46,
      "outputs": [
        {
          "output_type": "stream",
          "name": "stdout",
          "text": [
            "G_AB paramters: (11378179, 11378179)\n",
            "G_BA paramters: (11378179, 11378179)\n",
            "D_A paramters: (2764737, 2764737)\n",
            "D_B paramters: (2764737, 2764737)\n"
          ]
        }
      ]
    },
    {
      "cell_type": "code",
      "metadata": {
        "id": "fPx7RdBMZm2n"
      },
      "source": [
        "# Test dataloader\n",
        "test_datasetloader = DataLoader(\n",
        "    ImageDataset('', transforms_=transforms_, unaligned=True, mode=\"check\"),\n",
        "    batch_size=1,\n",
        "    shuffle=True,\n",
        "    num_workers=1,\n",
        ")"
      ],
      "execution_count": 33,
      "outputs": []
    },
    {
      "cell_type": "code",
      "metadata": {
        "id": "-t_1CU6ibus4"
      },
      "source": [
        "os.makedirs(\"images/test_real_A\", exist_ok=True)\n",
        "os.makedirs(\"images/test_real_B\", exist_ok=True)\n",
        "os.makedirs(\"images/test_fake_A\", exist_ok=True)\n",
        "os.makedirs(\"images/test_fake_B\", exist_ok=True)"
      ],
      "execution_count": null,
      "outputs": []
    },
    {
      "cell_type": "code",
      "metadata": {
        "id": "wiWEpoMUcLTW"
      },
      "source": [
        "def sample_images(count):\n",
        "    \"\"\"Saves a generated sample from the test set\"\"\"\n",
        "    test_real_A = \"test_real_A\"\n",
        "    test_real_B = \"test_real_B\"\n",
        "    test_fake_A = \"test_fake_A\"\n",
        "    test_fake_B = \"test_fake_B\"\n",
        "    imgs = next(iter(test_datasetloader))\n",
        "    G_AB.eval()\n",
        "    G_BA.eval()\n",
        "    real_A = Variable(imgs[\"A\"].type(Tensor))\n",
        "    fake_B = G_AB(real_A)\n",
        "    real_B = Variable(imgs[\"B\"].type(Tensor))\n",
        "    fake_A = G_BA(real_B)\n",
        "    # Arange images along y-axis\n",
        "    save_image(real_A, \"images/%s/%s.png\" % (test_real_A, count), normalize=True)\n",
        "    save_image(real_B, \"images/%s/%s.png\" % (test_real_B, count), normalize=True)\n",
        "    save_image(fake_A, \"images/%s/%s.png\" % (test_fake_A, count), normalize=True)\n",
        "    save_image(fake_B, \"images/%s/%s.png\" % (test_fake_B, count), normalize=True)"
      ],
      "execution_count": null,
      "outputs": []
    },
    {
      "cell_type": "code",
      "metadata": {
        "id": "JoHxs_-7aRi5"
      },
      "source": [
        " imgs = next(iter(test_datasetloader))"
      ],
      "execution_count": 34,
      "outputs": []
    },
    {
      "cell_type": "code",
      "metadata": {
        "id": "zbqVVD_7acsP"
      },
      "source": [
        "real_A = Variable(imgs[\"A\"].type(Tensor))"
      ],
      "execution_count": 35,
      "outputs": []
    },
    {
      "cell_type": "code",
      "metadata": {
        "colab": {
          "base_uri": "https://localhost:8080/"
        },
        "id": "9T_XO41qadgP",
        "outputId": "7b67c0fc-6776-4c1e-d890-f5441db34a48"
      },
      "source": [
        "real_A.shape"
      ],
      "execution_count": 38,
      "outputs": [
        {
          "output_type": "execute_result",
          "data": {
            "text/plain": [
              "torch.Size([1, 3, 256, 256])"
            ]
          },
          "metadata": {},
          "execution_count": 38
        }
      ]
    },
    {
      "cell_type": "code",
      "metadata": {
        "id": "odSvV2Pocss6"
      },
      "source": [
        "total_img = min(len(os.listdir('check_A')), len(os.listdir('check_B')))"
      ],
      "execution_count": null,
      "outputs": []
    },
    {
      "cell_type": "code",
      "metadata": {
        "id": "lFxZ041KeB0P"
      },
      "source": [
        "for c in range(total_img):\n",
        "  sample_images(c)"
      ],
      "execution_count": null,
      "outputs": []
    },
    {
      "cell_type": "code",
      "metadata": {
        "id": "LnWwEEJieWKZ"
      },
      "source": [
        "import glob\n",
        "import numpy as np\n",
        "import scipy.misc\n",
        "from scipy.spatial.distance import minkowski\n",
        "from scipy.stats import ks_2samp\n",
        "import time, imageio, os\n",
        "import torch\n",
        "from tqdm import tqdm\n",
        "from PIL import Image"
      ],
      "execution_count": 20,
      "outputs": []
    },
    {
      "cell_type": "code",
      "metadata": {
        "id": "W1ppQOO-hv8u"
      },
      "source": [
        "def get_image_vector(filename):\n",
        "    image = Image.open(filename)\n",
        "    image = image.resize((256, 256))\n",
        "    image.save('tmp_file.'+filename.split('.')[-1])\n",
        "    image.close()\n",
        "    im = imageio.imread('tmp_file.'+filename.split('.')[-1], pilmode='RGB')\n",
        "\n",
        "    return np.float32(np.ndarray.flatten(im)) / 255"
      ],
      "execution_count": 21,
      "outputs": []
    },
    {
      "cell_type": "code",
      "metadata": {
        "id": "XWpvKqu4h1iM"
      },
      "source": [
        "def gpu_LS(real, gen):\n",
        "    # to torch tensors\n",
        "    t_gen = torch.from_numpy(gen)\n",
        "    t_real = torch.from_numpy(real)\n",
        "\n",
        "    dist_real = torch.cdist(t_real, t_real)  # ICD 1\n",
        "    dist_real = torch.flatten(torch.tril(dist_real, diagonal=-1))  # remove repeats\n",
        "    dist_real = dist_real[dist_real.nonzero()].flatten()  # remove distance=0 for distances btw same data points\n",
        "\n",
        "    dist_gen = torch.cdist(t_gen, t_gen)  # ICD 2\n",
        "    dist_gen = torch.flatten(torch.tril(dist_gen, diagonal=-1))  # remove repeats\n",
        "    dist_gen = dist_gen[dist_gen.nonzero()].flatten()  # remove distance=0 for distances btw same data points\n",
        "\n",
        "    distbtw = torch.cdist(t_gen, t_real)  # BCD\n",
        "    distbtw = torch.flatten(distbtw)\n",
        "\n",
        "    D_Sep_1, _ = ks_2samp(dist_real, distbtw)\n",
        "    D_Sep_2, _ = ks_2samp(dist_gen, distbtw)\n",
        "\n",
        "    return 1 - np.max([D_Sep_1, D_Sep_2])  # LS=1-DSI"
      ],
      "execution_count": 22,
      "outputs": []
    },
    {
      "cell_type": "code",
      "metadata": {
        "colab": {
          "base_uri": "https://localhost:8080/"
        },
        "id": "JwRmSzIyEz4K",
        "outputId": "6a6c7e17-3e0a-47bc-ed8f-12a13570f7a7"
      },
      "source": [
        "import random\n",
        "# Base-line between Real-life and Real-art - network only generates 2 types of images.\n",
        "filenames_1 = glob.glob(os.path.join('images/', 'test_real_A/*'))\n",
        "gen = np.array([get_image_vector(filename) for filename in filenames_1])\n",
        "\n",
        "filenames_2 = glob.glob(os.path.join('images/', 'test_real_B/*'))\n",
        "filenames_2 = random.choices(filenames_2, k=2)\n",
        "real = np.array([get_image_vector(filename) for filename in filenames_2])\n",
        "\n",
        "print('real #:   ' + str(len(real)))\n",
        "print('gen #:   ' + str(len(gen)))\n",
        "\n",
        "print('\\n', 'LS= ', gpu_LS(real, gen))"
      ],
      "execution_count": 52,
      "outputs": [
        {
          "output_type": "stream",
          "name": "stdout",
          "text": [
            "real #:   2\n",
            "gen #:   630\n",
            "\n",
            " LS=  0.26190476190476186\n"
          ]
        }
      ]
    },
    {
      "cell_type": "code",
      "metadata": {
        "colab": {
          "base_uri": "https://localhost:8080/"
        },
        "id": "kIbMRMUWtJz8",
        "outputId": "f0ac83db-3919-4551-cecf-acb7e2bd85de"
      },
      "source": [
        "import random\n",
        "# Base-line between Real-life and Real-art - network only generates 2 types of images.\n",
        "filenames_1 = glob.glob(os.path.join('images/', 'test_real_B/*'))\n",
        "gen = np.array([get_image_vector(filename) for filename in filenames_1])\n",
        "\n",
        "filenames_2 = glob.glob(os.path.join('images/', 'test_real_A/*'))\n",
        "filenames_2 = random.choices(filenames_2, k=2)\n",
        "real = np.array([get_image_vector(filename) for filename in filenames_2])\n",
        "\n",
        "print('real #:   ' + str(len(real)))\n",
        "print('gen #:   ' + str(len(gen)))\n",
        "\n",
        "print('\\n', 'LS= ', gpu_LS(real, gen))"
      ],
      "execution_count": 53,
      "outputs": [
        {
          "output_type": "stream",
          "name": "stdout",
          "text": [
            "real #:   2\n",
            "gen #:   630\n",
            "\n",
            " LS=  0.29126984126984123\n"
          ]
        }
      ]
    },
    {
      "cell_type": "code",
      "metadata": {
        "colab": {
          "base_uri": "https://localhost:8080/"
        },
        "id": "pIl-OCQpiDXl",
        "outputId": "193cc197-ec0a-4e4c-cee3-48d79d586590"
      },
      "source": [
        "# Real-life to generated Art\n",
        "filenames_1 = glob.glob(os.path.join('images/', 'test_fake_A/*'))\n",
        "gen = np.array([get_image_vector(filename) for filename in filenames_1])\n",
        "\n",
        "filenames_2 = glob.glob(os.path.join('images/', 'test_real_B/*'))\n",
        "real = np.array([get_image_vector(filename) for filename in filenames_2])\n",
        "\n",
        "print('real #:   ' + str(len(real)))\n",
        "print('gen #:   ' + str(len(gen)))\n",
        "\n",
        "print('\\n', 'LS= ', gpu_LS(real, gen))"
      ],
      "execution_count": 24,
      "outputs": [
        {
          "output_type": "stream",
          "name": "stdout",
          "text": [
            "real #:   630\n",
            "gen #:   630\n",
            "\n",
            " LS=  0.9467593764232419\n"
          ]
        }
      ]
    },
    {
      "cell_type": "code",
      "metadata": {
        "colab": {
          "base_uri": "https://localhost:8080/"
        },
        "id": "AvsoJRtiiuuZ",
        "outputId": "c11e7727-3d9a-47b6-d294-5277e98bb3e0"
      },
      "source": [
        "# Art to generated real-life\n",
        "filenames_1 = glob.glob(os.path.join('images/', 'test_real_A/*'))\n",
        "gen = np.array([get_image_vector(filename) for filename in filenames_1])\n",
        "\n",
        "filenames_2 = glob.glob(os.path.join('images/', 'test_fake_B/*'))\n",
        "real = np.array([get_image_vector(filename) for filename in filenames_2])\n",
        "\n",
        "print('real #:   ' + str(len(real)))\n",
        "print('gen #:   ' + str(len(gen)))\n",
        "\n",
        "print('\\n', 'LS= ', gpu_LS(real, gen))"
      ],
      "execution_count": 25,
      "outputs": [
        {
          "output_type": "stream",
          "name": "stdout",
          "text": [
            "real #:   630\n",
            "gen #:   630\n",
            "\n",
            " LS=  0.9454908329698246\n"
          ]
        }
      ]
    },
    {
      "cell_type": "code",
      "metadata": {
        "id": "E2DBgEkGkna4"
      },
      "source": [
        ""
      ],
      "execution_count": null,
      "outputs": []
    }
  ]
}